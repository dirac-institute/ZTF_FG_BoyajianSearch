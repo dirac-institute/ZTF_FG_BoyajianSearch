{
 "cells": [
  {
   "cell_type": "markdown",
   "metadata": {},
   "source": [
    "**Andy Tzanidakis**"
   ]
  },
  {
   "cell_type": "code",
   "execution_count": 25,
   "metadata": {},
   "outputs": [
    {
     "name": "stderr",
     "output_type": "stream",
     "text": [
      "2023-11-27 08:54:56,029\tINFO worker.py:1507 -- Calling ray.init() again after it has already been called.\n"
     ]
    }
   ],
   "source": [
    "import numpy as np\n",
    "import matplotlib.pyplot as plt\n",
    "import astropy.units as u\n",
    "%matplotlib inline\n",
    "%config InlineBackend.figure_format = \"retina\"\n",
    "from matplotlib import rcParams\n",
    "rcParams['savefig.dpi'] = 550\n",
    "rcParams['font.size'] = 20\n",
    "plt.rc('font', family='serif')\n",
    "\n",
    "import lsdb\n",
    "from lsdb import lsdb_client\n",
    "client = lsdb_client(dask_on_ray=True, num_workers=8)\n"
   ]
  },
  {
   "cell_type": "code",
   "execution_count": 2,
   "metadata": {},
   "outputs": [],
   "source": [
    "#Hipcatts\n",
    "gaia = lsdb.read_hipscat(\"/data3/epyc/projects3/ivoa_demo/gaia/catalog\")\n",
    "ztf = lsdb.read_hipscat(\"/data3/epyc/data3/hipscat/catalogs/ztf_axs/ztf_dr14\")\n",
    "\n",
    "#sources load takes a minute, since it creates a healpix alignment on load\n",
    "ztf_sources = lsdb.read_hipscat(\"/data3/epyc/data3/hipscat/catalogs/ztf_axs/ztf_source\")"
   ]
  },
  {
   "cell_type": "markdown",
   "metadata": {},
   "source": [
    "## Task 1\n",
    "\n",
    "- Cone search Gaia + ZTF FG dwarf sources with classprob_dsc_combmod_star_gaia > 0.5\n",
    "\n",
    "- Condition sources such that: \n",
    "    1. mag[catflags] has been applied (i.e removing bad catflags)\n",
    "    2. Compute biweight location\n",
    "    3. Query/cut sources based on biweight location "
   ]
  },
  {
   "cell_type": "code",
   "execution_count": 5,
   "metadata": {},
   "outputs": [
    {
     "name": "stderr",
     "output_type": "stream",
     "text": [
      "\u001b[36m(dask:cone_filter-aed2e003-59ef-4e4d-a7ee-8de1e4d56cc0 pid=76399)\u001b[0m /astro/users/atzanida/lsdbgithub/lsdb/src/lsdb/core/cone_search.py:29: PerformanceWarning: DataFrame is highly fragmented.  This is usually the result of calling `frame.insert` many times, which has poor performance.  Consider joining all columns at once using pd.concat(axis=1) instead. To get a de-fragmented frame, use `newframe = frame.copy()`\n",
      "\u001b[36m(dask:cone_filter-aed2e003-59ef-4e4d-a7ee-8de1e4d56cc0 pid=76399)\u001b[0m   data_frame[\"_CONE_SEP\"] = df_separations\n"
     ]
    },
    {
     "name": "stdout",
     "output_type": "stream",
     "text": [
      "CPU times: user 566 ms, sys: 94.4 ms, total: 660 ms\n",
      "Wall time: 9.53 s\n"
     ]
    }
   ],
   "source": [
    "%%time\n",
    "_sample = gaia.cone_search(\n",
    "    ra=31,\n",
    "    dec=3,\n",
    "    radius=1,\n",
    ").crossmatch(\n",
    "    ztf\n",
    ").query(\n",
    "    \"nobs_g_ztf_dr14 > 100 and nobs_r_ztf_dr14 > 100 and \\\n",
    "    parallax_gaia > 0 and parallax_over_error_gaia > 5 and \\\n",
    "    teff_gspphot_gaia > 5380 and teff_gspphot_gaia < 7220 and logg_gspphot_gaia > 4.5 and logg_gspphot_gaia < 4.72 and classprob_dsc_combmod_star_gaia > 0.5\"\n",
    ").compute()"
   ]
  },
  {
   "cell_type": "code",
   "execution_count": 22,
   "metadata": {},
   "outputs": [],
   "source": [
    "_sample_hips = lsdb.from_dataframe(\n",
    "    _sample, \n",
    "    lowest_order=5, \n",
    "    highest_order=8, \n",
    "    set_hipscat_index=False, \n",
    "    ra_column=\"ra_gaia\", \n",
    "    dec_column=\"dec_gaia\", \n",
    "    threshold=1_000_000\n",
    ")\n",
    "\n",
    "_sample_sources = _sample_hips.join(\n",
    "    ztf_sources, left_on=\"ps1_objid_ztf_dr14\", right_on=\"ps1_objid\"\n",
    ").compute()"
   ]
  },
  {
   "cell_type": "code",
   "execution_count": 23,
   "metadata": {},
   "outputs": [],
   "source": [
    "def fetch_lc(hips_id, table=_sample_sources, band='r'):\n",
    "    \"\"\"This function fetches the light curve for a given hips_id and band.\n",
    "    \n",
    "    Parameters\n",
    "    ----------\n",
    "    hips_id : int\n",
    "    band (str): photometric band (default='r')\n",
    "\n",
    "    Returns\n",
    "    -------\n",
    "    light curve table for a given band \n",
    "    \"\"\"\n",
    "    one_object = table.query(f\"_hipscat_index == {hips_id}\")\n",
    "\n",
    "    if band=='r':\n",
    "        one_object_rband = one_object.query(\"band == \\\"r\\\"\")\n",
    "        cat = one_object_rband['catflags'] != -32768 \n",
    "        return one_object_rband[\"mjd\"][cat], one_object_rband[\"mag\"][cat], one_object_rband[\"magerr\"][cat]\n",
    "\n",
    "    elif band=='g':\n",
    "        one_object_gband = one_object.query(\"band == \\\"g\\\"\")\n",
    "        cat = one_object_gband['catflags'] != -32768 \n",
    "        return one_object_gband[\"mjd\"][cat], one_object_gband[\"mag\"][cat], one_object_gband[\"magerr\"][cat]\n",
    "\n",
    "    elif band=='i':\n",
    "        one_object_iband = one_object.query(\"band == \\\"i\\\"\")\n",
    "        return one_object_iband[\"mjd\"], one_object_iband[\"mag\"], one_object_iband[\"magerr\"]\n",
    "\n",
    "    elif band=='all':\n",
    "        one_object_rband = one_object.query(\"band == \\\"r\\\"\")\n",
    "        one_object_gband = one_object.query(\"band == \\\"g\\\"\")\n",
    "        one_object_iband = one_object.query(\"band == \\\"i\\\"\")\n",
    "\n",
    "        gband_mjd, gband_mag, gband_magerr = one_object_gband[\"mjd\"], one_object_gband[\"mag\"], one_object_gband[\"magerr\"]\n",
    "        rband_mjd, rband_mag, rband_magerr = one_object_rband[\"mjd\"], one_object_rband[\"mag\"], one_object_rband[\"magerr\"]\n",
    "        iband_mjd, iband_mag, iband_magerr = one_object_iband[\"mjd\"], one_object_iband[\"mag\"], one_object_iband[\"magerr\"]\n",
    "\n",
    "\n",
    "        return gband_mjd, gband_mag, gband_magerr, rband_mjd, rband_mag, rband_magerr, iband_mjd, iband_mag, iband_magerr"
   ]
  },
  {
   "cell_type": "code",
   "execution_count": 24,
   "metadata": {},
   "outputs": [
    {
     "name": "stdout",
     "output_type": "stream",
     "text": [
      "CPU times: user 57.2 ms, sys: 9.31 ms, total: 66.5 ms\n",
      "Wall time: 63.7 ms\n"
     ]
    }
   ],
   "source": [
    "%%time\n",
    "\n",
    "# random sourceID\n",
    "rnd = 5029289713001824256\n",
    "lc_r = fetch_lc(rnd, band='r')"
   ]
  },
  {
   "cell_type": "code",
   "execution_count": 28,
   "metadata": {},
   "outputs": [
    {
     "data": {
      "text/latex": [
       "$17.5 \\; \\mathrm{h}$"
      ],
      "text/plain": [
       "<Quantity 17.5 h>"
      ]
     },
     "execution_count": 28,
     "metadata": {},
     "output_type": "execute_result"
    }
   ],
   "source": [
    "# bleh querying each light curve seems \n",
    "(63*u.ms * (1_000_000)).to(u.hr)"
   ]
  },
  {
   "cell_type": "code",
   "execution_count": null,
   "metadata": {},
   "outputs": [],
   "source": [
    "# let's try writing a custom function\n",
    "\n",
    "def custom_function(df):\n",
    "    df_rband = df.query(\"band == \\\"r\\\"\")\n",
    "\n",
    "    cat = df_rband['catflags'] != -32768 # remove spurious measurements\n",
    "    x, y, yerr = df_rband[\"mjd\"][cat], df_rband[\"mag\"][cat], df_rband[\"magerr\"][cat]\n",
    "\n",
    "    return pd.DataFrame(\n",
    "        {\n",
    "            \"ps1_objid\" : [df[\"ps1_objid\"].values.tolist()[0]],\n",
    "            \"sigma_cat\": [np.std(y)]\n",
    "        }\n",
    "    )"
   ]
  }
 ],
 "metadata": {
  "kernelspec": {
   "display_name": "lsdb_demo_true",
   "language": "python",
   "name": "python3"
  },
  "language_info": {
   "codemirror_mode": {
    "name": "ipython",
    "version": 3
   },
   "file_extension": ".py",
   "mimetype": "text/x-python",
   "name": "python",
   "nbconvert_exporter": "python",
   "pygments_lexer": "ipython3",
   "version": "3.10.13"
  },
  "orig_nbformat": 4
 },
 "nbformat": 4,
 "nbformat_minor": 2
}
