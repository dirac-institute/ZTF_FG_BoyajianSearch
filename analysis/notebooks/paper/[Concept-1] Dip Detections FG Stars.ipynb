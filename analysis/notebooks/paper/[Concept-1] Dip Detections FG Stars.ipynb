{
 "cells": [
  {
   "cell_type": "markdown",
   "id": "7c7a70b4",
   "metadata": {},
   "source": [
    "### Data Summary\n",
    "- ZTF DR14 source table\n",
    "- ZTF DR14 catalog table\n",
    "- Gaia DR3 catalog table\n",
    "\n",
    "### Goals for Notebook\n",
    "- All-sky selection of FG dwafs using LSDB (`main`)\n",
    "- Run dip detection algorithm using TAPE (`main`)\n",
    "- Save `.pq` file: \n",
    "    - Store ps1_id's \n",
    "    - Number of dips, dip infromation\n",
    "    - Biweight $\\sigma_{lc}$ and other Gaia metrics (i.e bp_rp, parallax,...)\n",
    " "
   ]
  },
  {
   "cell_type": "code",
   "execution_count": 1,
   "id": "9e9d132e",
   "metadata": {},
   "outputs": [
    {
     "data": {
      "text/plain": [
       "<dask.config.set at 0x7f52587d2080>"
      ]
     },
     "execution_count": 1,
     "metadata": {},
     "output_type": "execute_result"
    }
   ],
   "source": [
    "import numpy as np\n",
    "import matplotlib.pyplot as plt\n",
    "import pandas as pd\n",
    "import astropy.units as u\n",
    "%matplotlib inline\n",
    "%config InlineBackend.figure_format = \"retina\"\n",
    "from matplotlib import rcParams\n",
    "rcParams['savefig.dpi'] = 550\n",
    "rcParams['font.size'] = 20\n",
    "plt.rc('font', family='serif')\n",
    "import lsdb\n",
    "import dask\n",
    "dask.config.set({\"temporary-directory\" :'/epyc/ssd/users/atzanida/tmp'})"
   ]
  },
  {
   "cell_type": "code",
   "execution_count": 2,
   "id": "67cf7fb5",
   "metadata": {},
   "outputs": [
    {
     "name": "stdout",
     "output_type": "stream",
     "text": [
      "CPU times: user 3.36 s, sys: 435 ms, total: 3.79 s\n",
      "Wall time: 3.8 s\n"
     ]
    }
   ],
   "source": [
    "%%time\n",
    "#Load ZTF, Gaia, and ZTF sources hipscats # note data3/ for epyc\n",
    "gaia = lsdb.read_hipscat(\"/epyc/data3/hipscat/test_catalogs/gaia_symbolic\")\n",
    "\n",
    "# load ZTF object table\n",
    "ztf = lsdb.read_hipscat(\"/epyc/data3/hipscat/catalogs/ztf_axs/ztf_dr14\")"
   ]
  },
  {
   "cell_type": "code",
   "execution_count": 3,
   "id": "c3806ab4",
   "metadata": {},
   "outputs": [
    {
     "name": "stdout",
     "output_type": "stream",
     "text": [
      "CPU times: user 50.7 s, sys: 9.49 s, total: 1min\n",
      "Wall time: 1min\n"
     ]
    }
   ],
   "source": [
    "%%time\n",
    "# Load ZTF DR14 sources\n",
    "ztf_sources = lsdb.read_hipscat(\"/epyc/data3/hipscat/catalogs/ztf_axs/ztf_source\")"
   ]
  },
  {
   "cell_type": "code",
   "execution_count": 4,
   "id": "7d47b802",
   "metadata": {},
   "outputs": [
    {
     "name": "stdout",
     "output_type": "stream",
     "text": [
      "CPU times: user 3.27 s, sys: 72.9 ms, total: 3.34 s\n",
      "Wall time: 3.35 s\n"
     ]
    }
   ],
   "source": [
    "%%time\n",
    "# crossmatch ZTF + Gaia\n",
    "_all_sky_object = gaia.crossmatch(ztf).query(\n",
    "    \"nobs_g_ztf_dr14 > 50 and nobs_r_ztf_dr14 > 50 and \\\n",
    "    parallax_gaia > 0 and parallax_over_error_gaia > 5 and \\\n",
    "    bp_rp_gaia > -99 and phot_g_mean_mag_gaia > 0 and \\\n",
    "    teff_gspphot_gaia > 5380 and teff_gspphot_gaia < 7220 and logg_gspphot_gaia > 4.5 \\\n",
    "    and logg_gspphot_gaia < 4.72 and classprob_dsc_combmod_star_gaia > 0.5\")"
   ]
  },
  {
   "cell_type": "code",
   "execution_count": 5,
   "id": "60e6d783",
   "metadata": {},
   "outputs": [],
   "source": [
    "%%time\n",
    "# Convert crossmatch _sample to lsdb Catalog object\n",
    "_sample_hips = lsdb.from_dataframe(\n",
    "    _all_sky_object.compute(), \n",
    "    lowest_order=5, \n",
    "    highest_order=8, \n",
    "    ra_column=\"ra_gaia\", \n",
    "    dec_column=\"dec_gaia\", \n",
    "    threshold=1_000_000\n",
    ")"
   ]
  },
  {
   "cell_type": "code",
   "execution_count": null,
   "id": "cac38fe6",
   "metadata": {},
   "outputs": [],
   "source": []
  }
 ],
 "metadata": {
  "kernelspec": {
   "display_name": "lsdb_demo_true",
   "language": "python",
   "name": "python3"
  },
  "language_info": {
   "codemirror_mode": {
    "name": "ipython",
    "version": 3
   },
   "file_extension": ".py",
   "mimetype": "text/x-python",
   "name": "python",
   "nbconvert_exporter": "python",
   "pygments_lexer": "ipython3",
   "version": "3.10.13"
  }
 },
 "nbformat": 4,
 "nbformat_minor": 5
}
