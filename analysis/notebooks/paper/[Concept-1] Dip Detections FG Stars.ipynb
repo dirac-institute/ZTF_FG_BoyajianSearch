{
 "cells": [
  {
   "cell_type": "markdown",
   "id": "cfcd7422",
   "metadata": {},
   "source": [
    "### Data Summary\n",
    "- ZTF DR14 source table\n",
    "- ZTF DR14 catalog table\n",
    "- Gaia DR3 catalog table\n",
    "\n",
    "### Goals for Notebook\n",
    "- All-sky selection of FG dwafs using LSDB (`main`)\n",
    "- Run dip detection algorithm using TAPE (`main`)\n",
    "- Save `.pq` file: \n",
    "    - Store ps1_id's \n",
    "    - Number of dips, dip infromation\n",
    "    - Biweight $\\sigma_{lc}$ and other Gaia metrics (i.e bp_rp, parallax,...)\n",
    " "
   ]
  },
  {
   "cell_type": "code",
   "execution_count": 1,
   "id": "6e33f261",
   "metadata": {},
   "outputs": [],
   "source": [
    "import numpy as np\n",
    "import matplotlib.pyplot as plt\n",
    "import pandas as pd\n",
    "import astropy.units as u\n",
    "%matplotlib inline\n",
    "%config InlineBackend.figure_format = \"retina\"\n",
    "from matplotlib import rcParams\n",
    "rcParams['savefig.dpi'] = 550\n",
    "rcParams['font.size'] = 20\n",
    "plt.rc('font', family='serif')\n",
    "import lsdb"
   ]
  },
  {
   "cell_type": "code",
   "execution_count": 2,
   "id": "b3016212",
   "metadata": {},
   "outputs": [],
   "source": [
    "#Load ZTF, Gaia, and ZTF sources hipscats\n",
    "gaia = lsdb.read_hipscat(\"/data3/epyc/data3/hipscat/test_catalogs/gaia_symbolic\")\n",
    "\n",
    "# load ZTF object table\n",
    "ztf = lsdb.read_hipscat(\"/data3/epyc/data3/hipscat/catalogs/ztf_axs/ztf_dr14\")\n",
    "\n",
    "# Load ZTF DR14 sources\n",
    "ztf_sources = lsdb.read_hipscat(\"/data3/epyc/data3/hipscat/catalogs/ztf_axs/ztf_source\")"
   ]
  },
  {
   "cell_type": "code",
   "execution_count": null,
   "id": "14d89e54",
   "metadata": {},
   "outputs": [],
   "source": []
  }
 ],
 "metadata": {
  "kernelspec": {
   "display_name": "lsdb_demo_true",
   "language": "python",
   "name": "lsdb_demo_true"
  },
  "language_info": {
   "codemirror_mode": {
    "name": "ipython",
    "version": 3
   },
   "file_extension": ".py",
   "mimetype": "text/x-python",
   "name": "python",
   "nbconvert_exporter": "python",
   "pygments_lexer": "ipython3",
   "version": "3.10.13"
  }
 },
 "nbformat": 4,
 "nbformat_minor": 5
}
