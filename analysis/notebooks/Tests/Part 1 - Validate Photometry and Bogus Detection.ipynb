{
 "cells": [
  {
   "cell_type": "markdown",
   "metadata": {},
   "source": [
    "# Overview\n",
    "\n",
    "## 1.1 - Download OID light curves from IRSA \n",
    "`fg_dipper_OID_example.csv` contains a sample of 10,000 FG dwarfs selected from **our initial** cut that have >0 dips.\n",
    "\n",
    "\n",
    "Data will be stored in `/templc`\n",
    "\n",
    "> This will result in about ~50,000 sources since we did a 1\" search around each source"
   ]
  },
  {
   "cell_type": "code",
   "execution_count": 4,
   "metadata": {},
   "outputs": [],
   "source": [
    "import pandas as pd\n",
    "import numpy as np\n",
    "import matplotlib.pyplot as plt\n",
    "import os \n"
   ]
  },
  {
   "cell_type": "markdown",
   "metadata": {},
   "source": [
    "## ZTF Tools for Parallel Downloading"
   ]
  },
  {
   "cell_type": "code",
   "execution_count": 15,
   "metadata": {},
   "outputs": [],
   "source": [
    "def download_irsa_lc(ID):\n",
    "    \"\"\"Download light curve from IRSA given OID.\"\"\"\n",
    "    url = f\"https://irsa.ipac.caltech.edu/cgi-bin/ZTF/nph_light_curves?ID={ID}&BAD_CATFLAGS_MASK=32768&FORMAT=csv\"\n",
    "    os.system(f\"wget --directory-prefix=templc/ {url} {ID}.csv\")"
   ]
  },
  {
   "cell_type": "code",
   "execution_count": 6,
   "metadata": {},
   "outputs": [],
   "source": [
    "data = pd.read_csv('fg_dipper_OID_example.csv')"
   ]
  },
  {
   "cell_type": "code",
   "execution_count": 11,
   "metadata": {},
   "outputs": [
    {
     "data": {
      "text/plain": [
       "1499206200001267"
      ]
     },
     "execution_count": 11,
     "metadata": {},
     "output_type": "execute_result"
    }
   ],
   "source": [
    "int(data['oid'].head(1).values[0])"
   ]
  },
  {
   "cell_type": "code",
   "execution_count": 16,
   "metadata": {},
   "outputs": [
    {
     "name": "stderr",
     "output_type": "stream",
     "text": [
      "sh: 1499206200001267.csv: command not found\n",
      "--2024-02-29 19:45:05--  https://irsa.ipac.caltech.edu/cgi-bin/ZTF/nph_light_curves?ID=1499206200001267\n",
      "Resolving irsa.ipac.caltech.edu (irsa.ipac.caltech.edu)... 134.4.54.87\n",
      "Connecting to irsa.ipac.caltech.edu (irsa.ipac.caltech.edu)|134.4.54.87|:443... connected.\n",
      "HTTP request sent, awaiting response... 200 OK\n",
      "Length: unspecified [text/xml]\n",
      "Saving to: 'templc/nph_light_curves?ID=1499206200001267'\n",
      "\n",
      "     0K .......... .......... .......... .......... .......     888K=0.05s\n",
      "\n",
      "2024-02-29 19:45:06 (888 KB/s) - 'templc/nph_light_curves?ID=1499206200001267' saved [49087]\n",
      "\n"
     ]
    }
   ],
   "source": [
    "download_irsa_lc(1499206200001267)"
   ]
  },
  {
   "cell_type": "code",
   "execution_count": null,
   "metadata": {},
   "outputs": [],
   "source": []
  }
 ],
 "metadata": {
  "kernelspec": {
   "display_name": "Python 3",
   "language": "python",
   "name": "python3"
  },
  "language_info": {
   "codemirror_mode": {
    "name": "ipython",
    "version": 3
   },
   "file_extension": ".py",
   "mimetype": "text/x-python",
   "name": "python",
   "nbconvert_exporter": "python",
   "pygments_lexer": "ipython3",
   "version": "3.7.6"
  }
 },
 "nbformat": 4,
 "nbformat_minor": 2
}
